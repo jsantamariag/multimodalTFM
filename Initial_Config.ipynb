{
 "cells": [
  {
   "cell_type": "markdown",
   "id": "8a102d6f-c128-4de5-8267-6b2281be05c5",
   "metadata": {},
   "source": [
    "# Instalar dependencias"
   ]
  },
  {
   "cell_type": "markdown",
   "id": "df52d2f3-15ac-467b-96b8-f0a27465cdea",
   "metadata": {},
   "source": [
    "!pip install os\n",
    "!pip install torch\n",
    "!pip install wandb\n",
    "!pip install accelerate\n",
    "!pip install bitsandbytes as bnb\n",
    "!pip install gdown\n",
    "!pip install zipfile36\n",
    "!pip install peft\n",
    "!pip install datasets\n",
    "!pip install scipy\n",
    "!pip install ipywidgets\n",
    "!pip install pytorch_lightning\n",
    "!pip install transformers\n"
   ]
  },
  {
   "cell_type": "markdown",
   "id": "6dd814a6-4ed9-4498-adca-7049661a10aa",
   "metadata": {},
   "source": [
    "# Ver gráfica"
   ]
  },
  {
   "cell_type": "code",
   "execution_count": 3,
   "id": "dee99ee6-b5da-40d2-84ee-e263edd2e2e2",
   "metadata": {},
   "outputs": [
    {
     "name": "stdout",
     "output_type": "stream",
     "text": [
      "CUDA is available. Here is the GPU info:\n",
      "Number of GPUs available: 2\n",
      "GPU 0: NVIDIA TITAN V\n",
      "  - Memory Allocated: 0.00 MB\n",
      "  - Memory Cached: 0.00 MB\n",
      "GPU 1: NVIDIA TITAN V\n",
      "  - Memory Allocated: 0.00 MB\n",
      "  - Memory Cached: 0.00 MB\n"
     ]
    }
   ],
   "source": [
    "import torch\n",
    "\n",
    "def print_gpu_info():\n",
    "    if torch.cuda.is_available():\n",
    "        print(\"CUDA is available. Here is the GPU info:\")\n",
    "        print(f\"Number of GPUs available: {torch.cuda.device_count()}\")\n",
    "        for i in range(torch.cuda.device_count()):\n",
    "            print(f\"GPU {i}: {torch.cuda.get_device_name(i)}\")\n",
    "            print(f\"  - Memory Allocated: {torch.cuda.memory_allocated(i) / 1024 ** 2:.2f} MB\")\n",
    "            print(f\"  - Memory Cached: {torch.cuda.memory_reserved(i) / 1024 ** 2:.2f} MB\")\n",
    "    else:\n",
    "        print(\"CUDA is not available. Running on CPU.\")\n",
    "\n",
    "print_gpu_info()\n"
   ]
  },
  {
   "cell_type": "code",
   "execution_count": 2,
   "id": "f7170fa1-7ef9-4ba2-af88-46c8fee7aaf2",
   "metadata": {},
   "outputs": [
    {
     "name": "stdout",
     "output_type": "stream",
     "text": [
      "CUDA is available. Here is the detailed GPU info:\n",
      "GPU 0: NVIDIA TITAN V\n",
      "  - Total Memory: 11.77 GB\n",
      "  - Memory Allocated: 0.00 MB\n",
      "  - Memory Cached: 0.00 MB\n",
      "  - CUDA Capability: 7.0\n",
      "GPU 1: NVIDIA TITAN V\n",
      "  - Total Memory: 11.77 GB\n",
      "  - Memory Allocated: 0.00 MB\n",
      "  - Memory Cached: 0.00 MB\n",
      "  - CUDA Capability: 7.0\n"
     ]
    }
   ],
   "source": [
    "import torch\n",
    "\n",
    "def print_detailed_gpu_info():\n",
    "    if torch.cuda.is_available():\n",
    "        print(\"CUDA is available. Here is the detailed GPU info:\")\n",
    "        for i in range(torch.cuda.device_count()):\n",
    "            print(f\"GPU {i}: {torch.cuda.get_device_name(i)}\")\n",
    "            print(f\"  - Total Memory: {torch.cuda.get_device_properties(i).total_memory / 1024 ** 3:.2f} GB\")\n",
    "            print(f\"  - Memory Allocated: {torch.cuda.memory_allocated(i) / 1024 ** 2:.2f} MB\")\n",
    "            print(f\"  - Memory Cached: {torch.cuda.memory_reserved(i) / 1024 ** 2:.2f} MB\")\n",
    "            print(f\"  - CUDA Capability: {torch.cuda.get_device_properties(i).major}.{torch.cuda.get_device_properties(i).minor}\")\n",
    "    else:\n",
    "        print(\"CUDA is not available. Running on CPU.\")\n",
    "\n",
    "print_detailed_gpu_info()\n"
   ]
  },
  {
   "cell_type": "code",
   "execution_count": 9,
   "id": "d4624035-148b-449d-9c35-cac53ce164fb",
   "metadata": {},
   "outputs": [
    {
     "name": "stdout",
     "output_type": "stream",
     "text": [
      "Current device: 1\n",
      "Using GPU: NVIDIA TITAN V\n"
     ]
    }
   ],
   "source": [
    "# Para configurar qué gráfica usar:\n",
    "\n",
    "\n",
    "import torch\n",
    "\n",
    "# Seleccionar el GPU 1 (indexado desde 0)\n",
    "torch.cuda.set_device(1)\n",
    "\n",
    "# Confirmar la configuración del dispositivo\n",
    "print(f\"Current device: {torch.cuda.current_device()}\")\n",
    "print(f\"Using GPU: {torch.cuda.get_device_name(torch.cuda.current_device())}\")\n",
    "\n",
    "# Hipotético código"
   ]
  },
  {
   "cell_type": "markdown",
   "id": "6b70eee7-bebb-4faa-bdf0-652f5ea363f0",
   "metadata": {
    "jp-MarkdownHeadingCollapsed": true
   },
   "source": [
    "# Descargar datos"
   ]
  },
  {
   "cell_type": "code",
   "execution_count": 8,
   "id": "27a20f0e-d3be-480e-b053-19f8dd620461",
   "metadata": {},
   "outputs": [
    {
     "name": "stderr",
     "output_type": "stream",
     "text": [
      "Downloading...\n",
      "From (original): https://drive.google.com/uc?export=download&id=10-RkrIw2uZhebvhKbvPJwP7NrKDOYPW6\n",
      "From (redirected): https://drive.google.com/uc?export=download&id=10-RkrIw2uZhebvhKbvPJwP7NrKDOYPW6&confirm=t&uuid=7b37b6bc-1d3f-4cc3-b46b-4a499d14beaa\n",
      "To: /javiersg/imagenes.zip\n",
      "100%|██████████| 6.37G/6.37G [10:37<00:00, 10.0MB/s]\n"
     ]
    },
    {
     "name": "stdout",
     "output_type": "stream",
     "text": [
      "Archivo ZIP descargado y extraído en: /javiersg\n"
     ]
    }
   ],
   "source": [
    "import gdown\n",
    "import zipfile\n",
    "import os\n",
    "\n",
    "# URL del archivo ZIP en Google Drive\n",
    "file_url = 'https://drive.google.com/file/d/10-RkrIw2uZhebvhKbvPJwP7NrKDOYPW6/view?usp=sharing'\n",
    "\n",
    "# Obtener el ID del archivo de Google Drive\n",
    "file_id = file_url.split('/')[-2]\n",
    "\n",
    "# Descargar el archivo utilizando gdown\n",
    "gdown.download(f'https://drive.google.com/uc?export=download&id={file_id}', 'imagenes.zip', quiet=False)\n",
    "\n",
    "# Nombre del archivo ZIP\n",
    "zip_filename = 'imagenes.zip'\n",
    "\n",
    "# Extraer el contenido del archivo ZIP\n",
    "with zipfile.ZipFile(zip_filename, 'r') as zip_ref:\n",
    "    zip_ref.extractall()\n",
    "\n",
    "# Eliminar el archivo ZIP después de extraer su contenido\n",
    "os.remove(zip_filename)\n",
    "\n",
    "print(f'Archivo ZIP descargado y extraído en: {os.getcwd()}')\n"
   ]
  },
  {
   "cell_type": "code",
   "execution_count": 13,
   "id": "6a4b2c87-d912-423f-8815-6a54881b30be",
   "metadata": {},
   "outputs": [
    {
     "name": "stderr",
     "output_type": "stream",
     "text": [
      "Downloading...\n",
      "From (original): https://drive.google.com/uc?export=download&id=1sARFpyzqkW1t4gGuB39aipwBof1Q-ipd\n",
      "From (redirected): https://drive.google.com/uc?export=download&id=1sARFpyzqkW1t4gGuB39aipwBof1Q-ipd&confirm=t&uuid=edb11bab-db82-43bd-b5f2-2c63d73cc2d5\n",
      "To: /javiersg/textos.zip\n",
      "100%|██████████| 15.2M/15.2M [00:01<00:00, 10.3MB/s]\n"
     ]
    },
    {
     "name": "stdout",
     "output_type": "stream",
     "text": [
      "Archivo ZIP descargado y extraído en: /javiersg\n"
     ]
    }
   ],
   "source": [
    "import gdown\n",
    "import zipfile\n",
    "import os\n",
    "\n",
    "# URL del archivo ZIP en Google Drive\n",
    "file_url = 'https://drive.google.com/file/d/1sARFpyzqkW1t4gGuB39aipwBof1Q-ipd/view?usp=sharing'\n",
    "\n",
    "# Obtener el ID del archivo de Google Drive\n",
    "file_id = file_url.split('/')[-2]\n",
    "\n",
    "# Descargar el archivo utilizando gdown\n",
    "gdown.download(f'https://drive.google.com/uc?export=download&id={file_id}', 'textos.zip', quiet=False)\n",
    "\n",
    "# Nombre del archivo ZIP\n",
    "zip_filename = 'textos.zip'\n",
    "\n",
    "# Extraer el contenido del archivo ZIP\n",
    "with zipfile.ZipFile(zip_filename, 'r') as zip_ref:\n",
    "    zip_ref.extractall()\n",
    "\n",
    "# Eliminar el archivo ZIP después de extraer su contenido\n",
    "os.remove(zip_filename)\n",
    "\n",
    "print(f'Archivo ZIP descargado y extraído en: {os.getcwd()}')"
   ]
  },
  {
   "cell_type": "code",
   "execution_count": 14,
   "id": "95931d1b",
   "metadata": {},
   "outputs": [
    {
     "name": "stderr",
     "output_type": "stream",
     "text": [
      "Downloading...\n",
      "From: https://drive.google.com/uc?export=download&id=1VlKjHcm6LexTNvF0S8_zLeSskfsaSFK_\n",
      "To: /javiersg/splits.zip\n",
      "100%|██████████| 1.32M/1.32M [00:00<00:00, 6.39MB/s]"
     ]
    },
    {
     "name": "stdout",
     "output_type": "stream",
     "text": [
      "Archivo ZIP descargado y extraído en: /javiersg\n"
     ]
    },
    {
     "name": "stderr",
     "output_type": "stream",
     "text": [
      "\n"
     ]
    }
   ],
   "source": [
    "import gdown\n",
    "import zipfile\n",
    "import os\n",
    "\n",
    "# URL del archivo ZIP en Google Drive\n",
    "file_url = 'https://drive.google.com/file/d/1VlKjHcm6LexTNvF0S8_zLeSskfsaSFK_/view?usp=sharing'\n",
    "\n",
    "# Obtener el ID del archivo de Google Drive\n",
    "file_id = file_url.split('/')[-2]\n",
    "\n",
    "# Descargar el archivo utilizando gdown\n",
    "gdown.download(f'https://drive.google.com/uc?export=download&id={file_id}', 'splits.zip', quiet=False)\n",
    "\n",
    "# Nombre del archivo ZIP\n",
    "zip_filename = 'splits.zip'\n",
    "\n",
    "# Extraer el contenido del archivo ZIP\n",
    "with zipfile.ZipFile(zip_filename, 'r') as zip_ref:\n",
    "    zip_ref.extractall()\n",
    "\n",
    "# Eliminar el archivo ZIP después de extraer su contenido\n",
    "os.remove(zip_filename)\n",
    "\n",
    "print(f'Archivo ZIP descargado y extraído en: {os.getcwd()}')"
   ]
  },
  {
   "cell_type": "code",
   "execution_count": null,
   "id": "df46be88-a6e0-4f5d-9685-ec4a0e1c165d",
   "metadata": {},
   "outputs": [],
   "source": []
  }
 ],
 "metadata": {
  "kernelspec": {
   "display_name": "Python 3 (ipykernel)",
   "language": "python",
   "name": "python3"
  },
  "language_info": {
   "codemirror_mode": {
    "name": "ipython",
    "version": 3
   },
   "file_extension": ".py",
   "mimetype": "text/x-python",
   "name": "python",
   "nbconvert_exporter": "python",
   "pygments_lexer": "ipython3",
   "version": "3.8.10"
  }
 },
 "nbformat": 4,
 "nbformat_minor": 5
}
